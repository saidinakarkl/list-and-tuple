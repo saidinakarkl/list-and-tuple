{
 "cells": [
  {
   "cell_type": "code",
   "execution_count": 6,
   "id": "e91feffa",
   "metadata": {},
   "outputs": [],
   "source": [
    "str =\"pavan kumar\""
   ]
  },
  {
   "cell_type": "code",
   "execution_count": 7,
   "id": "01308ab2",
   "metadata": {},
   "outputs": [
    {
     "data": {
      "text/plain": [
       "'Pavan kumar'"
      ]
     },
     "execution_count": 7,
     "metadata": {},
     "output_type": "execute_result"
    }
   ],
   "source": [
    "str.capitalize()"
   ]
  },
  {
   "cell_type": "code",
   "execution_count": 9,
   "id": "8a28243f",
   "metadata": {},
   "outputs": [
    {
     "data": {
      "text/plain": [
       "'Pavan Kumar'"
      ]
     },
     "execution_count": 9,
     "metadata": {},
     "output_type": "execute_result"
    }
   ],
   "source": [
    "str.title()"
   ]
  },
  {
   "cell_type": "code",
   "execution_count": 12,
   "id": "7d68a524",
   "metadata": {},
   "outputs": [],
   "source": [
    "str = \"     Vamshi Dhar     \""
   ]
  },
  {
   "cell_type": "code",
   "execution_count": 13,
   "id": "ad71fa86",
   "metadata": {},
   "outputs": [
    {
     "data": {
      "text/plain": [
       "'Vamshi Dhar'"
      ]
     },
     "execution_count": 13,
     "metadata": {},
     "output_type": "execute_result"
    }
   ],
   "source": [
    "str.strip()"
   ]
  },
  {
   "cell_type": "code",
   "execution_count": 14,
   "id": "50f63722",
   "metadata": {},
   "outputs": [
    {
     "data": {
      "text/plain": [
       "'Vamshi Dhar     '"
      ]
     },
     "execution_count": 14,
     "metadata": {},
     "output_type": "execute_result"
    }
   ],
   "source": [
    "str.lstrip()"
   ]
  },
  {
   "cell_type": "code",
   "execution_count": 15,
   "id": "1f367a17",
   "metadata": {},
   "outputs": [
    {
     "data": {
      "text/plain": [
       "'     Vamshi Dhar'"
      ]
     },
     "execution_count": 15,
     "metadata": {},
     "output_type": "execute_result"
    }
   ],
   "source": [
    "str.rstrip()"
   ]
  },
  {
   "cell_type": "code",
   "execution_count": 16,
   "id": "db606156",
   "metadata": {},
   "outputs": [
    {
     "data": {
      "text/plain": [
       "'****     Vamshi Dhar     *****'"
      ]
     },
     "execution_count": 16,
     "metadata": {},
     "output_type": "execute_result"
    }
   ],
   "source": [
    "str.center(30,\"*\")"
   ]
  },
  {
   "cell_type": "code",
   "execution_count": 19,
   "id": "be711724",
   "metadata": {},
   "outputs": [],
   "source": [
    "str1 = \"ganesh\""
   ]
  },
  {
   "cell_type": "code",
   "execution_count": 21,
   "id": "b96b1c6d",
   "metadata": {},
   "outputs": [
    {
     "data": {
      "text/plain": [
       "'###########################ganesh###########################'"
      ]
     },
     "execution_count": 21,
     "metadata": {},
     "output_type": "execute_result"
    }
   ],
   "source": [
    "str1.center(60,\"#\")"
   ]
  },
  {
   "cell_type": "code",
   "execution_count": 22,
   "id": "e401834a",
   "metadata": {},
   "outputs": [
    {
     "data": {
      "text/plain": [
       "1"
      ]
     },
     "execution_count": 22,
     "metadata": {},
     "output_type": "execute_result"
    }
   ],
   "source": [
    "str1.count(\"a\")"
   ]
  },
  {
   "cell_type": "code",
   "execution_count": 23,
   "id": "f42b162f",
   "metadata": {},
   "outputs": [],
   "source": [
    "str2=\"greeshma\""
   ]
  },
  {
   "cell_type": "code",
   "execution_count": 24,
   "id": "9e6058e7",
   "metadata": {},
   "outputs": [
    {
     "data": {
      "text/plain": [
       "2"
      ]
     },
     "execution_count": 24,
     "metadata": {},
     "output_type": "execute_result"
    }
   ],
   "source": [
    "str2.count(\"e\")"
   ]
  },
  {
   "cell_type": "code",
   "execution_count": 25,
   "id": "1c772528",
   "metadata": {},
   "outputs": [
    {
     "data": {
      "text/plain": [
       "2"
      ]
     },
     "execution_count": 25,
     "metadata": {},
     "output_type": "execute_result"
    }
   ],
   "source": [
    "str2.index(\"e\")"
   ]
  },
  {
   "cell_type": "code",
   "execution_count": 26,
   "id": "00fb043d",
   "metadata": {},
   "outputs": [
    {
     "data": {
      "text/plain": [
       "3"
      ]
     },
     "execution_count": 26,
     "metadata": {},
     "output_type": "execute_result"
    }
   ],
   "source": [
    "str1.index(\"e\")"
   ]
  },
  {
   "cell_type": "code",
   "execution_count": 27,
   "id": "8c1541a1",
   "metadata": {},
   "outputs": [],
   "source": [
    "str3 = \"sanjay\""
   ]
  },
  {
   "cell_type": "code",
   "execution_count": 28,
   "id": "30729d85",
   "metadata": {},
   "outputs": [
    {
     "data": {
      "text/plain": [
       "'SANJAY'"
      ]
     },
     "execution_count": 28,
     "metadata": {},
     "output_type": "execute_result"
    }
   ],
   "source": [
    "str3.upper()"
   ]
  },
  {
   "cell_type": "code",
   "execution_count": 29,
   "id": "0a672fca",
   "metadata": {},
   "outputs": [],
   "source": [
    "str4 = \"SHAshank\""
   ]
  },
  {
   "cell_type": "code",
   "execution_count": 30,
   "id": "68b539b1",
   "metadata": {},
   "outputs": [
    {
     "data": {
      "text/plain": [
       "'shashank'"
      ]
     },
     "execution_count": 30,
     "metadata": {},
     "output_type": "execute_result"
    }
   ],
   "source": [
    "str4.lower()"
   ]
  },
  {
   "cell_type": "code",
   "execution_count": 31,
   "id": "9fa53077",
   "metadata": {},
   "outputs": [
    {
     "data": {
      "text/plain": [
       "'shaSHANK'"
      ]
     },
     "execution_count": 31,
     "metadata": {},
     "output_type": "execute_result"
    }
   ],
   "source": [
    "str4.swapcase()"
   ]
  },
  {
   "cell_type": "code",
   "execution_count": 33,
   "id": "6e23a14b",
   "metadata": {},
   "outputs": [
    {
     "data": {
      "text/plain": [
       "['SHAsh', 'nk']"
      ]
     },
     "execution_count": 33,
     "metadata": {},
     "output_type": "execute_result"
    }
   ],
   "source": [
    "str4.split(\"a\")"
   ]
  },
  {
   "cell_type": "code",
   "execution_count": 34,
   "id": "7cd63f70",
   "metadata": {},
   "outputs": [
    {
     "data": {
      "text/plain": [
       "True"
      ]
     },
     "execution_count": 34,
     "metadata": {},
     "output_type": "execute_result"
    }
   ],
   "source": [
    "str4.isalnum()"
   ]
  },
  {
   "cell_type": "code",
   "execution_count": 35,
   "id": "3e718944",
   "metadata": {},
   "outputs": [],
   "source": [
    "str5 = \"sashank123\""
   ]
  },
  {
   "cell_type": "code",
   "execution_count": 36,
   "id": "dcee6c26",
   "metadata": {},
   "outputs": [
    {
     "data": {
      "text/plain": [
       "False"
      ]
     },
     "execution_count": 36,
     "metadata": {},
     "output_type": "execute_result"
    }
   ],
   "source": [
    "str5.isalpha()"
   ]
  },
  {
   "cell_type": "code",
   "execution_count": 37,
   "id": "0187f472",
   "metadata": {},
   "outputs": [
    {
     "data": {
      "text/plain": [
       "True"
      ]
     },
     "execution_count": 37,
     "metadata": {},
     "output_type": "execute_result"
    }
   ],
   "source": [
    "str5.isalnum()"
   ]
  },
  {
   "cell_type": "code",
   "execution_count": 38,
   "id": "550272c1",
   "metadata": {},
   "outputs": [
    {
     "data": {
      "text/plain": [
       "True"
      ]
     },
     "execution_count": 38,
     "metadata": {},
     "output_type": "execute_result"
    }
   ],
   "source": [
    "str5.isascii()"
   ]
  },
  {
   "cell_type": "code",
   "execution_count": 39,
   "id": "093c1780",
   "metadata": {},
   "outputs": [
    {
     "data": {
      "text/plain": [
       "False"
      ]
     },
     "execution_count": 39,
     "metadata": {},
     "output_type": "execute_result"
    }
   ],
   "source": [
    "str5.isdigit()"
   ]
  },
  {
   "cell_type": "code",
   "execution_count": 4,
   "id": "bf22dea4",
   "metadata": {},
   "outputs": [],
   "source": [
    "str6=\"343543\""
   ]
  },
  {
   "cell_type": "code",
   "execution_count": 5,
   "id": "2de324ea",
   "metadata": {},
   "outputs": [
    {
     "data": {
      "text/plain": [
       "True"
      ]
     },
     "execution_count": 5,
     "metadata": {},
     "output_type": "execute_result"
    }
   ],
   "source": [
    "str6.isdigit()"
   ]
  },
  {
   "cell_type": "code",
   "execution_count": 7,
   "id": "a33831cf",
   "metadata": {},
   "outputs": [
    {
     "data": {
      "text/plain": [
       "True"
      ]
     },
     "execution_count": 7,
     "metadata": {},
     "output_type": "execute_result"
    }
   ],
   "source": [
    "str6.isnumeric()"
   ]
  },
  {
   "cell_type": "code",
   "execution_count": 8,
   "id": "1e631128",
   "metadata": {},
   "outputs": [
    {
     "data": {
      "text/plain": [
       "True"
      ]
     },
     "execution_count": 8,
     "metadata": {},
     "output_type": "execute_result"
    }
   ],
   "source": [
    "str6.isdecimal()"
   ]
  },
  {
   "cell_type": "code",
   "execution_count": null,
   "id": "2ecbebcf",
   "metadata": {},
   "outputs": [],
   "source": []
  }
 ],
 "metadata": {
  "kernelspec": {
   "display_name": "Python 3 (ipykernel)",
   "language": "python",
   "name": "python3"
  },
  "language_info": {
   "codemirror_mode": {
    "name": "ipython",
    "version": 3
   },
   "file_extension": ".py",
   "mimetype": "text/x-python",
   "name": "python",
   "nbconvert_exporter": "python",
   "pygments_lexer": "ipython3",
   "version": "3.10.5"
  }
 },
 "nbformat": 4,
 "nbformat_minor": 5
}
